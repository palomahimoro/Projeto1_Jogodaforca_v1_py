{
 "cells": [
  {
   "cell_type": "code",
   "execution_count": 7,
   "id": "9ec4978d",
   "metadata": {},
   "outputs": [],
   "source": [
    "#Jogo da forca"
   ]
  },
  {
   "cell_type": "code",
   "execution_count": 8,
   "id": "17982c0e",
   "metadata": {
    "collapsed": true
   },
   "outputs": [],
   "source": [
    "#import\n",
    "import random\n",
    "from os import system, name"
   ]
  },
  {
   "cell_type": "code",
   "execution_count": 9,
   "id": "847b6cd5",
   "metadata": {},
   "outputs": [],
   "source": [
    "#Funcao para limar a tela a cada execucao\n",
    "def limpa_tela():\n",
    "    #windows\n",
    "    if name == 'nt':\n",
    "        _ = system('cls')\n",
    "        \n",
    "    #Mac ou Linux\n",
    "    else:\n",
    "        _ = system('clear')"
   ]
  },
  {
   "cell_type": "code",
   "execution_count": 10,
   "id": "d65cedb1",
   "metadata": {},
   "outputs": [],
   "source": [
    "#Funcao\n",
    "def game():\n",
    "    limpa_tela()\n",
    "    \n",
    "    print(\"\\nBem-vindo(a) ao jogo da forca!\")\n",
    "    print(\"Adivinhe a palavra abaixo:\\n\")"
   ]
  },
  {
   "cell_type": "code",
   "execution_count": 11,
   "id": "ce385b00",
   "metadata": {},
   "outputs": [],
   "source": [
    "#lista de palavras para o jogo\n",
    "palavras = ['banana', 'abacate', 'uva', 'morango', 'laranja']"
   ]
  },
  {
   "cell_type": "code",
   "execution_count": 12,
   "id": "75ac4274",
   "metadata": {},
   "outputs": [],
   "source": [
    "#Escolhe randomicamente uma palavra\n",
    "palavra = random.choice(palavras)"
   ]
  },
  {
   "cell_type": "code",
   "execution_count": 13,
   "id": "ea0dcae8",
   "metadata": {},
   "outputs": [],
   "source": [
    "#list comprehension\n",
    "letras_descobertas = ['_' for letra in palavra]"
   ]
  },
  {
   "cell_type": "code",
   "execution_count": 14,
   "id": "62a4787a",
   "metadata": {},
   "outputs": [],
   "source": [
    "#numero de chances\n",
    "chances = 6"
   ]
  },
  {
   "cell_type": "code",
   "execution_count": 15,
   "id": "043b507a",
   "metadata": {},
   "outputs": [],
   "source": [
    "#lista para as letras erradas\n",
    "letras_erradas = []"
   ]
  },
  {
   "cell_type": "code",
   "execution_count": 16,
   "id": "6c85a351",
   "metadata": {},
   "outputs": [
    {
     "name": "stdout",
     "output_type": "stream",
     "text": [
      "_ _ _ _ _ _\n",
      "\n",
      "Chances restantes: 6\n",
      "Letras erradas: \n",
      "\n",
      "Digite uma letra: a\n",
      "_ a _ a _ a\n",
      "\n",
      "Chances restantes: 6\n",
      "Letras erradas: \n",
      "\n",
      "Digite uma letra: b\n",
      "b a _ a _ a\n",
      "\n",
      "Chances restantes: 6\n",
      "Letras erradas: \n",
      "\n",
      "Digite uma letra: n\n",
      "\n",
      "Voce venceu, a palavra era: banana\n",
      "\n",
      "Voce venceu, a palavra era banana\n",
      "\u001b[H\u001b[2J\n",
      "Bem-vindo(a) ao jogo da forca!\n",
      "Adivinhe a palavra abaixo:\n",
      "\n",
      "\n",
      "Parabens. Voce esta aprendendo programacao em Python com a DSA. :)\n",
      "\n"
     ]
    }
   ],
   "source": [
    "    while chances > 0:\n",
    "        #Print\n",
    "        print(\" \".join(letras_descobertas))\n",
    "        print(\"\\nChances restantes:\", chances)\n",
    "        print(\"Letras erradas:\", \" \".join(letras_erradas))\n",
    "    \n",
    "        #Tentativa\n",
    "        tentativa = input(\"\\nDigite uma letra: \").lower()\n",
    "    \n",
    "        #condicional\n",
    "        if tentativa in palavra:\n",
    "            index = 0\n",
    "            for letra in palavra:\n",
    "                if tentativa == letra:\n",
    "                    letras_descobertas[index] = letra\n",
    "                index += 1\n",
    "        else:\n",
    "            chances -= 1\n",
    "            letras_erradas.append(tentativa)\n",
    "        #condicional\n",
    "        if \"_\" not in letras_descobertas:\n",
    "            print(\"\\nVoce venceu, a palavra era:\",palavra)\n",
    "            break\n",
    "    #condicional\n",
    "    if \"_\" not in letras_descobertas:\n",
    "        print(\"\\nVoce venceu, a palavra era\", palavra)\n",
    "#bloco main\n",
    "    if __name__ == \"__main__\":\n",
    "        game()\n",
    "    print(\"\\nParabens. Voce esta aprendendo programacao em Python com a DSA. :)\\n\")\n",
    "    "
   ]
  },
  {
   "cell_type": "code",
   "execution_count": null,
   "id": "06e5c5c6",
   "metadata": {},
   "outputs": [],
   "source": []
  },
  {
   "cell_type": "code",
   "execution_count": null,
   "id": "2a798b81",
   "metadata": {},
   "outputs": [],
   "source": []
  },
  {
   "cell_type": "code",
   "execution_count": null,
   "id": "012b3ec4",
   "metadata": {},
   "outputs": [],
   "source": []
  }
 ],
 "metadata": {
  "kernelspec": {
   "display_name": "Python 3 (ipykernel)",
   "language": "python",
   "name": "python3"
  },
  "language_info": {
   "codemirror_mode": {
    "name": "ipython",
    "version": 3
   },
   "file_extension": ".py",
   "mimetype": "text/x-python",
   "name": "python",
   "nbconvert_exporter": "python",
   "pygments_lexer": "ipython3",
   "version": "3.9.13"
  }
 },
 "nbformat": 4,
 "nbformat_minor": 5
}
